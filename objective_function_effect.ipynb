{
 "cells": [
  {
   "cell_type": "markdown",
   "metadata": {},
   "source": [
    "Import packages"
   ]
  },
  {
   "cell_type": "code",
   "execution_count": 1,
   "metadata": {},
   "outputs": [],
   "source": [
    "import tensorflow as tf\n",
    "import numpy as np\n",
    "import pandas as pd\n",
    "import os\n",
    "import seaborn as sns\n",
    "import matplotlib.pyplot as plt\n",
    "import time\n",
    "from tqdm import tqdm"
   ]
  },
  {
   "cell_type": "markdown",
   "metadata": {},
   "source": [
    "Structure: in each trial generate parameters, then for number_of_epochs generate a batch of size 'batch_size' each time from the input distribution and the real distribution\n",
    "and train the GAN on it. Set the learning parameters:"
   ]
  },
  {
   "cell_type": "code",
   "execution_count": 2,
   "metadata": {},
   "outputs": [],
   "source": [
    "number_of_trails = 1\n",
    "number_of_epochs = 20000\n",
    "batch_size = 2000\n",
    "hidden_layer_size_d = 10\n",
    "hidden_layer_size_g = 8\n",
    "which_objective = 1\n"
   ]
  },
  {
   "cell_type": "markdown",
   "metadata": {},
   "source": [
    "Define actual distribution, Gaussian mixtrure model:"
   ]
  },
  {
   "cell_type": "code",
   "execution_count": 3,
   "metadata": {},
   "outputs": [],
   "source": [
    "real_mean_1 = 0\n",
    "real_sd_1 = 1\n",
    "\n",
    "real_mean_2 = 10\n",
    "real_sd_2 = 1"
   ]
  },
  {
   "cell_type": "markdown",
   "metadata": {},
   "source": [
    "Discriminator and generator NNs"
   ]
  },
  {
   "cell_type": "code",
   "execution_count": 4,
   "metadata": {},
   "outputs": [],
   "source": [
    "def discriminator(input, parameters):\n",
    "    pre_1 = tf.add(tf.matmul(tf.to_float(input), parameters[0]), parameters[1])\n",
    "    activ_1 = tf.tanh(pre_1)\n",
    "    pre_2 = tf.add(tf.matmul(activ_1, parameters[2]), parameters[3])\n",
    "    activ_2 = tf.tanh(pre_2)\n",
    "    pre_3 = tf.add(tf.matmul(activ_2, parameters[4]), parameters[5])\n",
    "    output = tf.sigmoid(pre_3)\n",
    "    return output\n",
    "\n",
    "\n",
    "def generator(input, parameters):\n",
    "    pre_1 = tf.add(tf.matmul(tf.to_float(input), parameters[0]), parameters[1])\n",
    "    activ_1 = tf.tanh(pre_1)\n",
    "    output = tf.add(tf.matmul(activ_1, parameters[2]), parameters[3])\n",
    "    return output\n",
    "\n",
    "\n",
    "# Create weights and biases variables\n",
    "weight_d_1 = tf.Variable(tf.random_uniform([1, hidden_layer_size_d], minval=0, maxval=1, dtype=tf.float32))\n",
    "bias_d_1 = tf.Variable(tf.random_uniform([hidden_layer_size_d], minval=0, maxval=1, dtype=tf.float32))\n",
    "weight_d_2 = tf.Variable(tf.random_uniform([hidden_layer_size_d, hidden_layer_size_d], minval=0, maxval=1, dtype=tf.float32))\n",
    "bias_d_2 = tf.Variable(tf.random_uniform([hidden_layer_size_d], minval=0, maxval=1, dtype=tf.float32))\n",
    "weight_d_3 = tf.Variable(tf.random_uniform([hidden_layer_size_d, 1], minval=0, maxval=1, dtype=tf.float32))\n",
    "bias_d_3 = tf.Variable(tf.random_uniform([1], minval=0, maxval=1, dtype=tf.float32))\n",
    "\n",
    "d_parameters = [weight_d_1,bias_d_1, weight_d_2, bias_d_2,weight_d_3, bias_d_3]\n",
    "\n",
    "weight_g_1 = tf.Variable(tf.random_uniform([1, hidden_layer_size_g], minval=0, maxval=1, dtype=tf.float32))\n",
    "bias_g_1 = tf.Variable(tf.random_uniform([hidden_layer_size_g], minval=0, maxval=1, dtype=tf.float32))\n",
    "weight_g_2 = tf.Variable(tf.random_uniform([hidden_layer_size_g, 1], minval=0, maxval=1, dtype=tf.float32))\n",
    "bias_g_2 = tf.Variable(tf.random_uniform([1], minval=0, maxval=1, dtype=tf.float32))\n",
    "\n",
    "\n",
    "g_parameters = [weight_g_1,bias_g_1, weight_g_2, bias_g_2]\n"
   ]
  },
  {
   "cell_type": "markdown",
   "metadata": {},
   "source": [
    "Losses:"
   ]
  },
  {
   "cell_type": "code",
   "execution_count": 5,
   "metadata": {},
   "outputs": [],
   "source": [
    "real_dist_placeholder = tf.placeholder(tf.float32, shape=(None, 1))\n",
    "generator_input_placeholder = tf.placeholder(tf.float32, shape=(None, 1))\n",
    "with tf.variable_scope(\"Discrim\") as scope:\n",
    "    mini_features = False\n",
    "    D1 = discriminator(real_dist_placeholder, d_parameters)\n",
    "    scope.reuse_variables()\n",
    "    D2 = discriminator(generator(generator_input_placeholder, g_parameters), d_parameters)\n",
    "    \n",
    "objectives = {1: tf.reduce_mean(tf.log(1-D2)) , 2: tf.reduce_mean(tf.log(1-D2))}\n",
    "loss_d = tf.reduce_mean(-tf.log(D1) - tf.log(1 - D2))\n",
    "loss_g = objectives[which_objective]\n"
   ]
  },
  {
   "cell_type": "markdown",
   "metadata": {},
   "source": [
    "Train step:"
   ]
  },
  {
   "cell_type": "code",
   "execution_count": 6,
   "metadata": {},
   "outputs": [],
   "source": [
    "learning_rate = tf.placeholder(tf.float32)\n",
    "\n",
    "train_g = tf.train.GradientDescentOptimizer(learning_rate).minimize(loss_g, var_list=g_parameters)\n",
    "train_d = tf.train.GradientDescentOptimizer(learning_rate).minimize(loss_d, var_list=d_parameters)\n",
    "\n",
    "data_directory = '/Users/Billy/PycharmProjects/GAN-Mode-Collapse-Testing/data/objective_{}'.format(which_objective)\n",
    "os.chdir(data_directory)\n",
    "\n",
    "start_time = time.time()\n",
    "\n",
    "\n",
    "\n"
   ]
  },
  {
   "cell_type": "markdown",
   "metadata": {},
   "source": [
    "Run:"
   ]
  },
  {
   "cell_type": "code",
   "execution_count": 7,
   "metadata": {},
   "outputs": [
    {
     "name": "stderr",
     "output_type": "stream",
     "text": [
      "\r",
      "  0%|          | 0/20000 [00:00<?, ?it/s]"
     ]
    },
    {
     "name": "stdout",
     "output_type": "stream",
     "text": [
      "Trial: 1/1\n",
      "Step: 1/1\n",
      "Learning Rate: 0.0136853637499\n"
     ]
    },
    {
     "name": "stderr",
     "output_type": "stream",
     "text": [
      "100%|██████████| 20000/20000 [01:00<00:00, 331.97it/s]\n"
     ]
    },
    {
     "data": {
      "image/png": "[encoded data removed]",
      "text/plain": [
       "<matplotlib.figure.Figure at 0x1143b8550>"
      ]
     },
     "metadata": {},
     "output_type": "display_data"
    },
    {
     "name": "stdout",
     "output_type": "stream",
     "text": [
      "Total time taken: 61.1807608604 seconds\n"
     ]
    }
   ],
   "source": [
    "for it in range(1,number_of_trails+1):\n",
    "    # sample parameters\n",
    "    learning_rate_vec = np.random.uniform(0.000001,0.1,1)\n",
    "\n",
    "    res_matrix = np.zeros((len(learning_rate_vec), batch_size))\n",
    "    learning_rate_out_vec = np.zeros((len(learning_rate_vec)))\n",
    "\n",
    "    row =0\n",
    "    for i, p in enumerate(learning_rate_vec):\n",
    "\n",
    "        print 'Trial: {}/{}'.format(it,number_of_trails)\n",
    "        print 'Step: {}/{}'.format(row+1, len(learning_rate_vec))\n",
    "        print 'Learning Rate: {0}'.format(p)\n",
    "\n",
    "        with tf.Session() as sess:\n",
    "            tf.global_variables_initializer().run()\n",
    "            # writer = tf.summary.FileWriter('./graphs', sess.graph)\n",
    "            for step in tqdm(range(number_of_epochs)):\n",
    "                generator_input = np.random.uniform(0, 1, (batch_size, 1))\n",
    "                # sample data\n",
    "                which = np.random.choice((0, 1), batch_size)  # bernoulli deciding which gaussian to sample from\n",
    "                means = which * real_mean_1 + (1 - which) * real_mean_2  # chooses mean_1 if which = 1\n",
    "                sds = which * real_sd_1 + (1 - which) * real_sd_2  # chooses sd_1 if which = 1\n",
    "                real_dist = np.random.normal(means, sds, batch_size)  # generate samples\n",
    "                real_dist = real_dist.reshape((batch_size, 1))\n",
    "\n",
    "                sess.run(train_d, feed_dict={real_dist_placeholder: real_dist,\n",
    "                                             generator_input_placeholder: generator_input,\n",
    "                                             learning_rate : learning_rate_vec[i]})\n",
    "                sess.run(train_g, feed_dict={real_dist_placeholder: real_dist,\n",
    "                                             generator_input_placeholder: generator_input,\n",
    "                                             learning_rate: learning_rate_vec[i]})\n",
    "\n",
    "            generator_input = np.random.uniform(0, 1, (batch_size, 1))\n",
    "            which = np.random.choice((0, 1), batch_size)  # bernoulli deciding which gaussian to sample from\n",
    "            means = which * real_mean_1 + (1 - which) * real_mean_2  # chooses mean_1 if which = 1\n",
    "            sds = which * real_sd_1 + (1 - which) * real_sd_2  # chooses sd_1 if which = 1\n",
    "            real_dist = np.random.normal(means, sds, batch_size)  # generate samples\n",
    "            real_dist = real_dist.reshape((batch_size, 1))\n",
    "\n",
    "            generated = sess.run(generator(generator_input, g_parameters))\n",
    "            res_matrix[row] = generated.reshape(batch_size)\n",
    "            row = row + 1\n",
    "\n",
    "            sns.distplot(generated, hist=True, rug=False)\n",
    "            sns.distplot(real_dist, hist=False, rug=False)\n",
    "            plt.show()\n",
    "            plt.close()\n",
    "\n",
    "    res_dataframe = pd.DataFrame(data=res_matrix.astype(float))\n",
    "    learning_rate_dataframe = pd.DataFrame(data=learning_rate_out_vec.astype(float))\n",
    "\n",
    "    output_dataframe = pd.concat([learning_rate_dataframe.reset_index(drop=True), res_dataframe], axis=1)\n",
    "\n",
    "    with open(\"output.csv\", 'a') as f:\n",
    "        output_dataframe.to_csv(f, sep=',', header=False, float_format='%.9f', index=False)\n",
    "\n",
    "\n",
    "print 'Total time taken: {0} seconds'.format(time.time()- start_time)\n",
    "\n",
    "\n"
   ]
  }
 ],
 "metadata": {
  "kernelspec": {
   "display_name": "Python 2",
   "language": "python",
   "name": "python2"
  },
  "language_info": {
   "codemirror_mode": {
    "name": "ipython",
    "version": 2
   },
   "file_extension": ".py",
   "mimetype": "text/x-python",
   "name": "python",
   "nbconvert_exporter": "python",
   "pygments_lexer": "ipython2",
   "version": "2.7.14"
  }
 },
 "nbformat": 4,
 "nbformat_minor": 2
}
