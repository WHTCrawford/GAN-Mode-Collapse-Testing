{
 "cells": [
  {
   "cell_type": "markdown",
   "metadata": {},
   "source": [
    "Import packages"
   ]
  },
  {
   "cell_type": "code",
   "execution_count": 1,
   "metadata": {},
   "outputs": [],
   "source": [
    "import tensorflow as tf\n",
    "import numpy as np\n",
    "import pandas as pd\n",
    "import os\n",
    "import seaborn as sns\n",
    "import matplotlib.pyplot as plt\n",
    "import time\n",
    "from tqdm import tqdm"
   ]
  },
  {
   "cell_type": "markdown",
   "metadata": {},
   "source": [
    "Structure: in each trial generate parameters, then for number_of_epochs generate a batch of size 'batch_size' each time from the input distribution and the real distribution\n",
    "and train the GAN on it. Randomly select which objective function for G and whether to do minibatch selection"
   ]
  },
  {
   "cell_type": "code",
   "execution_count": 12,
   "metadata": {},
   "outputs": [
    {
     "name": "stdout",
     "output_type": "stream",
     "text": [
      "2\n"
     ]
    }
   ],
   "source": [
    "number_of_trails = 100\n",
    "number_of_epochs = 100000\n",
    "batch_size = 2000\n",
    "hidden_layer_size_d = 6\n",
    "hidden_layer_size_g = 5\n",
    "which_objective = np.random.choice((1, 2), 1)[0]\n",
    "minibatch_discrimination = np.random.choice((True, False), 1)[0]\n",
    "\n",
    "print which_objective[0]\n"
   ]
  },
  {
   "cell_type": "markdown",
   "metadata": {},
   "source": [
    "Define actual distribution, Gaussian mixtrure model:"
   ]
  },
  {
   "cell_type": "code",
   "execution_count": 3,
   "metadata": {},
   "outputs": [],
   "source": [
    "real_mean_1 = 0\n",
    "real_sd_1 = 1\n",
    "\n",
    "real_mean_2 = 10\n",
    "real_sd_2 = 1"
   ]
  },
  {
   "cell_type": "markdown",
   "metadata": {},
   "source": [
    "Discriminator and generator NNs"
   ]
  },
  {
   "cell_type": "code",
   "execution_count": 4,
   "metadata": {},
   "outputs": [],
   "source": [
    "def minibatch_l1(input):\n",
    "    maxi = tf.reduce_max(input)\n",
    "    mini = tf.reduce_min(input)\n",
    "    return tf.subtract(maxi,mini)\n"
   ]
  },
  {
   "cell_type": "markdown",
   "metadata": {},
   "source": [
    "Discriminator and generator NNs"
   ]
  },
  {
   "cell_type": "code",
   "execution_count": 5,
   "metadata": {},
   "outputs": [],
   "source": [
    "def discriminator(input, parameters, max_batch_dist, batch_mean):\n",
    "    pre_1 = tf.add(tf.matmul(tf.to_float(input), parameters[0]), parameters[1])\n",
    "    activ_1 = tf.tanh(pre_1)\n",
    "    pre_2 = tf.add(tf.matmul(activ_1, parameters[2]), parameters[3])\n",
    "    activ_2 = tf.tanh(pre_2)\n",
    "    pre_3 = tf.add(tf.matmul(activ_2, parameters[4]), parameters[5])\n",
    "    output1 = tf.sigmoid(pre_3)\n",
    "    \n",
    "    mini_1 = tf.add(tf.multiply(max_batch_dist,parameters[6]),parameters[7])\n",
    "    \n",
    "    mean_1 = tf.add(tf.multiply(batch_mean,parameters[8]),parameters[9])\n",
    "\n",
    "    mixed1 = tf.add(tf.multiply(mini_1,parameters[10]),pre_3)\n",
    "    mixed2 = tf.add(tf.multiply(mean_1,parameters[11]),mixed1)\n",
    "    output = tf.sigmoid(mixed2)\n",
    "    return output\n",
    "\n",
    "def simple_discriminator(input, parameters):\n",
    "    pre_1 = tf.add(tf.matmul(tf.to_float(input), parameters[0]), parameters[1])\n",
    "    activ_1 = tf.tanh(pre_1)\n",
    "    pre_2 = tf.add(tf.matmul(activ_1, parameters[2]), parameters[3])\n",
    "    activ_2 = tf.tanh(pre_2)\n",
    "    pre_3 = tf.add(tf.matmul(activ_2, parameters[4]), parameters[5])\n",
    "    output1 = tf.sigmoid(pre_3)\n",
    "    return output1\n",
    "\n",
    "\n",
    "def generator(input, parameters):\n",
    "    pre_1 = tf.add(tf.matmul(tf.to_float(input), parameters[0]), parameters[1])\n",
    "    activ_1 = tf.tanh(pre_1)\n",
    "    output = tf.add(tf.matmul(activ_1, parameters[2]), parameters[3])\n",
    "    return output\n",
    "\n",
    "def batch_generator(input, parameters):\n",
    "    pre_1 = tf.add(tf.matmul(tf.to_float(input), parameters[0]), parameters[1])\n",
    "    activ_1 = tf.tanh(pre_1)\n",
    "    output = tf.add(tf.matmul(activ_1, parameters[2]), parameters[3])\n",
    "    return output\n",
    "\n",
    "\n",
    "\n",
    "\n"
   ]
  },
  {
   "cell_type": "markdown",
   "metadata": {},
   "source": [
    "D parameters"
   ]
  },
  {
   "cell_type": "code",
   "execution_count": 6,
   "metadata": {},
   "outputs": [],
   "source": [
    "weight_d_1 = tf.Variable(tf.random_uniform([1, hidden_layer_size_d], minval=0, maxval=1, dtype=tf.float32))\n",
    "bias_d_1 = tf.Variable(tf.random_uniform([hidden_layer_size_d], minval=0, maxval=1, dtype=tf.float32))\n",
    "weight_d_2 = tf.Variable(tf.random_uniform([hidden_layer_size_d, hidden_layer_size_d], minval=0, maxval=1, dtype=tf.float32))\n",
    "bias_d_2 = tf.Variable(tf.random_uniform([hidden_layer_size_d], minval=0, maxval=1, dtype=tf.float32))\n",
    "weight_d_3 = tf.Variable(tf.random_uniform([hidden_layer_size_d, 1], minval=0, maxval=1, dtype=tf.float32))\n",
    "bias_d_3 = tf.Variable(tf.random_uniform([1], minval=0, maxval=1, dtype=tf.float32))\n",
    "\n",
    "mini_weight_1 = tf.Variable(tf.random_uniform([1], minval=0, maxval=1, dtype=tf.float32))\n",
    "mini_bias_1 = tf.Variable(tf.random_uniform([1], minval=0, maxval=1, dtype=tf.float32))\n",
    "\n",
    "mean_weight_1 = tf.Variable(tf.random_uniform([1], minval=0, maxval=1, dtype=tf.float32))\n",
    "mean_bias_1 = tf.Variable(tf.random_uniform([1], minval=0, maxval=1, dtype=tf.float32))\n",
    "\n",
    "mixing_weight1 = tf.Variable(tf.random_uniform([1], minval=0, maxval=1, dtype=tf.float32))\n",
    "mixing_weight2 = tf.Variable(tf.random_uniform([1], minval=0, maxval=1, dtype=tf.float32))\n",
    "\n",
    "d_parameters = [weight_d_1,bias_d_1, weight_d_2, bias_d_2,weight_d_3, \n",
    "                bias_d_3,mini_weight_1,mini_bias_1,mean_weight_1,mean_bias_1,mixing_weight1,mixing_weight2]\n",
    "\n",
    "simple_d_parameters = [weight_d_1,bias_d_1, weight_d_2, bias_d_2,weight_d_3, bias_d_3]\n",
    "\n"
   ]
  },
  {
   "cell_type": "markdown",
   "metadata": {},
   "source": [
    "G parameters"
   ]
  },
  {
   "cell_type": "code",
   "execution_count": 7,
   "metadata": {},
   "outputs": [],
   "source": [
    "\n",
    "weight_g_1 = tf.Variable(tf.random_uniform([1, hidden_layer_size_g], minval=0, maxval=1, dtype=tf.float32))\n",
    "bias_g_1 = tf.Variable(tf.random_uniform([hidden_layer_size_g], minval=0, maxval=1, dtype=tf.float32))\n",
    "weight_g_2 = tf.Variable(tf.random_uniform([hidden_layer_size_g, 1], minval=0, maxval=1, dtype=tf.float32))\n",
    "bias_g_2 = tf.Variable(tf.random_uniform([1], minval=0, maxval=1, dtype=tf.float32))\n",
    "\n",
    "g_parameters = [weight_g_1,bias_g_1, weight_g_2, bias_g_2]\n",
    "\n"
   ]
  },
  {
   "cell_type": "markdown",
   "metadata": {},
   "source": [
    "Losses:"
   ]
  },
  {
   "cell_type": "code",
   "execution_count": 8,
   "metadata": {},
   "outputs": [
    {
     "ename": "TypeError",
     "evalue": "unhashable type: 'numpy.ndarray'",
     "output_type": "error",
     "traceback": [
      "\u001b[0;31m---------------------------------------------------------------------------\u001b[0m",
      "\u001b[0;31mTypeError\u001b[0m                                 Traceback (most recent call last)",
      "\u001b[0;32m<ipython-input-8-754ae16563df>\u001b[0m in \u001b[0;36m<module>\u001b[0;34m()\u001b[0m\n\u001b[1;32m      8\u001b[0m     discriminator_dict_1 = {False: simple_discriminator(real_dist_placeholder,simple_d_parameters),\n\u001b[1;32m      9\u001b[0m                         True: discriminator(real_dist_placeholder, d_parameters, real_batch_l1,real_mean)}\n\u001b[0;32m---> 10\u001b[0;31m     \u001b[0md_output_real\u001b[0m \u001b[0;34m=\u001b[0m \u001b[0mdiscriminator_dict_1\u001b[0m\u001b[0;34m[\u001b[0m\u001b[0mminibatch_discrimination\u001b[0m\u001b[0;34m]\u001b[0m\u001b[0;34m\u001b[0m\u001b[0m\n\u001b[0m\u001b[1;32m     11\u001b[0m     \u001b[0mscope\u001b[0m\u001b[0;34m.\u001b[0m\u001b[0mreuse_variables\u001b[0m\u001b[0;34m(\u001b[0m\u001b[0;34m)\u001b[0m\u001b[0;34m\u001b[0m\u001b[0m\n\u001b[1;32m     12\u001b[0m     \u001b[0mfake_batch_l1\u001b[0m \u001b[0;34m=\u001b[0m \u001b[0mminibatch_l1\u001b[0m\u001b[0;34m(\u001b[0m\u001b[0mgenerator\u001b[0m\u001b[0;34m(\u001b[0m\u001b[0mgenerator_input_placeholder\u001b[0m\u001b[0;34m,\u001b[0m \u001b[0mg_parameters\u001b[0m\u001b[0;34m)\u001b[0m\u001b[0;34m)\u001b[0m\u001b[0;34m\u001b[0m\u001b[0m\n",
      "\u001b[0;31mTypeError\u001b[0m: unhashable type: 'numpy.ndarray'"
     ]
    }
   ],
   "source": [
    "real_dist_placeholder = tf.placeholder(tf.float32, shape=(None, 1))\n",
    "generator_input_placeholder = tf.placeholder(tf.float32, shape=(None, 1))\n",
    "\n",
    "\n",
    "with tf.variable_scope(\"Discrim\") as scope:\n",
    "    real_batch_l1 = minibatch_l1(real_dist_placeholder)\n",
    "    real_mean = tf.reduce_mean(real_dist_placeholder)\n",
    "    discriminator_dict_1 = {False: simple_discriminator(real_dist_placeholder,simple_d_parameters),\n",
    "                        True: discriminator(real_dist_placeholder, d_parameters, real_batch_l1,real_mean)}\n",
    "    d_output_real = discriminator_dict_1[minibatch_discrimination]\n",
    "    scope.reuse_variables()\n",
    "    fake_batch_l1 = minibatch_l1(generator(generator_input_placeholder, g_parameters))\n",
    "    fake_mean = tf.reduce_mean(generator(generator_input_placeholder, g_parameters))\n",
    "    discriminator_dict_2 = {False: simple_discriminator(generator(generator_input_placeholder, g_parameters),simple_d_parameters),\n",
    "                        True: discriminator(generator(generator_input_placeholder, g_parameters), d_parameters,fake_batch_l1,fake_mean)}\n",
    "    d_output_fake = discriminator_dict_2[minibatch_discrimination]\n",
    "\n",
    "\n",
    "objectives = {1: tf.reduce_mean(tf.log(1-d_output_fake)) , 2: -tf.reduce_mean(tf.log(d_output_fake))}\n",
    "loss_d = tf.reduce_mean(-tf.log(d_output_real) - tf.log(1 - d_output_fake))\n",
    "loss_g = objectives[which_objective]\n"
   ]
  },
  {
   "cell_type": "markdown",
   "metadata": {},
   "source": [
    "Train step:"
   ]
  },
  {
   "cell_type": "code",
   "execution_count": null,
   "metadata": {},
   "outputs": [],
   "source": [
    "learning_rate = tf.placeholder(tf.float32)\n",
    "\n",
    "train_g = tf.train.GradientDescentOptimizer(learning_rate).minimize(loss_g, var_list=g_parameters)\n",
    "train_d = tf.train.GradientDescentOptimizer(learning_rate).minimize(loss_d, var_list=d_parameters)\n",
    "\n",
    "minibatch_dict = {True: 'minibatch', False : 'no_minibatch'}\n",
    "\n",
    "data_directory = '/Users/Billy/PycharmProjects/GAN-Mode-Collapse-Testing/data/objective_{}_{}'.format(which_objective,minibatch_dict[minibatch_discrimination])\n",
    "os.chdir(data_directory)\n",
    "\n",
    "start_time = time.time()\n",
    "\n",
    "\n",
    "\n"
   ]
  },
  {
   "cell_type": "markdown",
   "metadata": {},
   "source": [
    "Run:"
   ]
  },
  {
   "cell_type": "code",
   "execution_count": null,
   "metadata": {},
   "outputs": [],
   "source": [
    "for it in range(1,number_of_trails+1):\n",
    "    # sample parameters\n",
    "    learning_rate_vec = np.random.uniform(0.000001,0.1,1)\n",
    "\n",
    "    res_matrix = np.zeros((len(learning_rate_vec), batch_size))\n",
    "    learning_rate_out_vec = np.zeros((len(learning_rate_vec)))\n",
    "\n",
    "    row =0\n",
    "    for i, p in enumerate(learning_rate_vec):\n",
    "\n",
    "        print 'Trial: {}/{}'.format(it,number_of_trails)\n",
    "        print 'Step: {}/{}'.format(row+1, len(learning_rate_vec))\n",
    "        print 'Learning Rate: {0}'.format(p)\n",
    "\n",
    "        with tf.Session() as sess:\n",
    "            tf.global_variables_initializer().run()\n",
    "            # writer = tf.summary.FileWriter('./graphs', sess.graph)\n",
    "            \n",
    "            for step in tqdm(range(number_of_epochs)):\n",
    "                generator_input = np.random.uniform(0, 1, (batch_size, 1))\n",
    "                # sample data\n",
    "                which = np.random.choice((0, 1), batch_size)  # bernoulli deciding which gaussian to sample from\n",
    "                means = which * real_mean_1 + (1 - which) * real_mean_2  # chooses mean_1 if which = 1\n",
    "                sds = which * real_sd_1 + (1 - which) * real_sd_2  # chooses sd_1 if which = 1\n",
    "                real_dist = np.random.normal(means, sds, batch_size)  # generate samples\n",
    "                real_dist = real_dist.reshape((batch_size, 1))\n",
    "\n",
    "                sess.run(train_d, feed_dict={real_dist_placeholder: real_dist,\n",
    "                                             generator_input_placeholder: generator_input,\n",
    "                                             learning_rate : learning_rate_vec[i]})\n",
    "                sess.run(train_g, feed_dict={real_dist_placeholder: real_dist,\n",
    "                                             generator_input_placeholder: generator_input,\n",
    "                                             learning_rate: learning_rate_vec[i]})\n",
    "            \n",
    "            generator_input = np.random.uniform(0, 1, (batch_size, 1))\n",
    "            which = np.random.choice((0, 1), batch_size)  # bernoulli deciding which gaussian to sample from\n",
    "            means = which * real_mean_1 + (1 - which) * real_mean_2  # chooses mean_1 if which = 1\n",
    "            sds = which * real_sd_1 + (1 - which) * real_sd_2  # chooses sd_1 if which = 1\n",
    "            real_dist = np.random.normal(means, sds, batch_size)  # generate samples\n",
    "            real_dist = real_dist.reshape((batch_size, 1))\n",
    "\n",
    "            generated = sess.run(generator(generator_input, g_parameters))\n",
    "            \n",
    "            # print generated\n",
    "            # print sess.run(g_parameters)\n",
    "            \n",
    "            res_matrix[row] = generated.reshape(batch_size)\n",
    "            row = row + 1\n",
    "            \n",
    "            l1_fake = sess.run(fake_batch_l1 , feed_dict = {generator_input_placeholder:generator_input})\n",
    "            l1_real = sess.run(real_batch_l1 , feed_dict = {real_dist_placeholder:real_dist})\n",
    "            \n",
    "            print 'Fake max distance: {}'.format(l1_fake)\n",
    "            print 'Real max distance: {}'.format(l1_real)\n",
    "\n",
    "            sns.distplot(generated, hist=True, rug=False)\n",
    "            sns.distplot(real_dist, hist=False, rug=False)\n",
    "            plt.show()\n",
    "\n",
    "    res_dataframe = pd.DataFrame(data=res_matrix.astype(float))\n",
    "    learning_rate_dataframe = pd.DataFrame(data=learning_rate_out_vec.astype(float))\n",
    "\n",
    "    output_dataframe = pd.concat([learning_rate_dataframe.reset_index(drop=True), res_dataframe], axis=1)\n",
    "\n",
    "    with open(\"output.csv\", 'a') as f:\n",
    "        output_dataframe.to_csv(f, sep=',', header=False, float_format='%.9f', index=False)\n",
    "\n",
    "\n",
    "print 'Total time taken: {0} seconds'.format(time.time()- start_time)\n",
    "\n",
    "\n"
   ]
  }
 ],
 "metadata": {
  "kernelspec": {
   "display_name": "Python 2",
   "language": "python",
   "name": "python2"
  },
  "language_info": {
   "codemirror_mode": {
    "name": "ipython",
    "version": 2
   },
   "file_extension": ".py",
   "mimetype": "text/x-python",
   "name": "python",
   "nbconvert_exporter": "python",
   "pygments_lexer": "ipython2",
   "version": "2.7.14"
  }
 },
 "nbformat": 4,
 "nbformat_minor": 2
}
